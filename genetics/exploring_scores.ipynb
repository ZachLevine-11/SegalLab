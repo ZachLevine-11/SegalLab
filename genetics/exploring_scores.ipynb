{
 "cells": [
  {
   "cell_type": "code",
   "execution_count": 1,
   "metadata": {
    "pycharm": {
     "is_executing": true
    }
   },
   "outputs": [
    {
     "ename": "ImportError",
     "evalue": "No module named 'LabData'",
     "output_type": "error",
     "traceback": [
      "\u001b[0;31m---------------------------------------------------------------------------\u001b[0m",
      "\u001b[0;31mImportError\u001b[0m                               Traceback (most recent call last)",
      "\u001b[0;32m<ipython-input-1-895be56930b8>\u001b[0m in \u001b[0;36m<module>\u001b[0;34m()\u001b[0m\n\u001b[1;32m      2\u001b[0m \u001b[0;32mimport\u001b[0m \u001b[0msys\u001b[0m\u001b[0;34m\u001b[0m\u001b[0m\n\u001b[1;32m      3\u001b[0m \u001b[0;32mimport\u001b[0m \u001b[0mpandas\u001b[0m \u001b[0;32mas\u001b[0m \u001b[0mpd\u001b[0m\u001b[0;34m\u001b[0m\u001b[0m\n\u001b[0;32m----> 4\u001b[0;31m \u001b[0;32mfrom\u001b[0m \u001b[0mLabData\u001b[0m\u001b[0;34m.\u001b[0m\u001b[0mDataLoaders\u001b[0m\u001b[0;34m.\u001b[0m\u001b[0mPRSLoader\u001b[0m \u001b[0;32mimport\u001b[0m \u001b[0mPRSLoader\u001b[0m\u001b[0;34m\u001b[0m\u001b[0m\n\u001b[0m\u001b[1;32m      5\u001b[0m \u001b[0;32mfrom\u001b[0m \u001b[0mLabData\u001b[0m\u001b[0;34m.\u001b[0m\u001b[0mDataLoaders\u001b[0m\u001b[0;34m.\u001b[0m\u001b[0mUltrasoundLoader\u001b[0m \u001b[0;32mimport\u001b[0m \u001b[0mUltrasoundLoader\u001b[0m\u001b[0;34m\u001b[0m\u001b[0m\n\u001b[1;32m      6\u001b[0m \u001b[0;32mfrom\u001b[0m \u001b[0mLabData\u001b[0m\u001b[0;34m.\u001b[0m\u001b[0mDataLoaders\u001b[0m\u001b[0;34m.\u001b[0m\u001b[0mABILoader\u001b[0m \u001b[0;32mimport\u001b[0m \u001b[0mABILoader\u001b[0m\u001b[0;34m\u001b[0m\u001b[0m\n",
      "\u001b[0;31mImportError\u001b[0m: No module named 'LabData'"
     ]
    }
   ],
   "source": [
    "import numpy as np\n",
    "import sys\n",
    "import pandas as pd\n",
    "from LabData.DataLoaders.PRSLoader import PRSLoader\n",
    "from LabData.DataLoaders.UltrasoundLoader import UltrasoundLoader\n",
    "from LabData.DataLoaders.ABILoader import ABILoader\n",
    "from scores_work import stack_matrices_and_bonferonni_correct, report_pheno\n",
    "stackmat = stack_matrices_and_bonferonni_correct(fillwithNA = True)\n",
    "abi = ABILoader().get_data().df_columns_metadata\n",
    "us = UltrasoundLoader().get_data().df_columns_metadata"
   ]
  },
  {
   "cell_type": "code",
   "execution_count": 5,
   "metadata": {
    "pycharm": {
     "is_executing": true
    }
   },
   "outputs": [],
   "source": [
    "file_path = \"/net/mraid08/export/jasmine/zach/prs_associations/report.txt\"\n",
    "descriptionmap  = PRSLoader().get_data().df_columns_metadata.h2_description.to_dict()"
   ]
  },
  {
   "cell_type": "code",
   "execution_count": 7,
   "metadata": {
    "pycharm": {
     "is_executing": true
    }
   },
   "outputs": [],
   "source": [
    "##Top phenos excluding DEXA\n",
    "sys.stdout = open(file_path, \"w\")\n",
    "for pheno in stackmat.loc[stackmat.index.get_level_values(1) != \"DEXALoader\",:].index.get_level_values(0):\n",
    "    report_pheno(pheno, descriptionmap, stackmat)"
   ]
  },
  {
   "cell_type": "code",
   "execution_count": null,
   "metadata": {
    "pycharm": {
     "is_executing": true
    }
   },
   "outputs": [],
   "source": [
    "from seaborn import clustermap\n",
    "from matplotlib import pyplot as plt\n",
    "clustermap(stackmat)\n",
    "plt.show()"
   ]
  },
  {
   "cell_type": "code",
   "execution_count": null,
   "metadata": {},
   "outputs": [],
   "source": []
  }
 ],
 "metadata": {
  "kernelspec": {
   "display_name": "Python 3",
   "language": "python",
   "name": "python3"
  },
  "language_info": {
   "codemirror_mode": {
    "name": "ipython",
    "version": 3
   },
   "file_extension": ".py",
   "mimetype": "text/x-python",
   "name": "python",
   "nbconvert_exporter": "python",
   "pygments_lexer": "ipython3",
   "version": "3.5.2"
  }
 },
 "nbformat": 4,
 "nbformat_minor": 4
}
