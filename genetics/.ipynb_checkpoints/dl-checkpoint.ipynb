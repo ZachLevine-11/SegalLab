{
 "cells": [
  {
   "cell_type": "code",
   "execution_count": null,
   "metadata": {
    "pycharm": {
     "is_executing": true
    }
   },
   "outputs": [],
   "source": [
    "import torch\n",
    "from LabData.DataLoaders.PRSLoader import PRSLoader\n",
    "import torch.nn as nn\n",
    "import torch.nn.functional as F\n",
    "import torch.optim as optim\n",
    "from genetics_dataset import GeneticsDataset\n",
    "\n",
    "data = GeneticsDataset()"
   ]
  },
  {
   "cell_type": "code",
   "execution_count": null,
   "metadata": {
    "pycharm": {
     "is_executing": true,
     "name": "#%%\n"
    }
   },
   "outputs": [],
   "source": [
    "class fc_snpnet(nn.Module):\n",
    "    def __init__(self):\n",
    "        super(fc_snpnet, self).__init__()\n",
    "        self.conv1 = nn.Conv1d(31, 31, 2000)\n",
    "        self.conv2 = nn.Conv1d(31, 31, 1000)\n",
    "        self.conv4 = nn.Conv1d(31, 31, 1000)\n",
    "        self.conv6 = nn.Conv1d(31, 31, 1000)\n",
    "        self.conv7 = nn.Conv1d(31, 31, 1000)\n",
    "        self.fc1 = nn.Linear(3596, 2048)\n",
    "        self.fc2 = nn.Linear(2048, 1024)\n",
    "        self.fc3 = nn.Linear(1024, 516)\n",
    "        self.fc4 = nn.Linear(516, 256)\n",
    "        self.fc5 = nn.Linear(256, 128)\n",
    "        self.fc6 = nn.Linear(128, 1)\n",
    "\n",
    "    def forward(self, x):\n",
    "        x = torch.reshape(x, [2, 31, 6053])\n",
    "        x = self.conv1(x)\n",
    "        x = self.conv2(x)\n",
    "        x = self.conv4(x)\n",
    "        x = self.conv6(x)\n",
    "        x = self.conv7(x)\n",
    "        x = x.flatten()\n",
    "        x = F.sigmoid(self.fc1(x))\n",
    "        x = F.sigmoid(self.fc2(x))\n",
    "        x = F.sigmoid(self.fc3(x))\n",
    "        x = F.sigmoid(self.fc4(x))\n",
    "        x = F.sigmoid(self.fc5(x))\n",
    "        x = self.fc6(x)\n",
    "        return x\n",
    "\n",
    "#device = \"cuda\" if torch.cuda.is_available() else \"cpu\"\n",
    "device = \"cpu\"\n",
    "net = fc_snpnet()\n",
    "net = net.to(device)"
   ]
  },
  {
   "cell_type": "code",
   "execution_count": null,
   "metadata": {
    "pycharm": {
     "is_executing": true,
     "name": "#%%\n"
    }
   },
   "outputs": [],
   "source": [
    "criterion = nn.MSELoss()\n",
    "optimizer = optim.SGD(net.parameters(), lr = 0.001, momentum = 0.2)\n",
    "for epoch in range(30):\n",
    "    i = 0\n",
    "    for tenK_index in list(data.binaries.sample.values)[0:4000]:\n",
    "        try:\n",
    "            snps, label = data.__getitem__(tenK_index)\n",
    "            snps = snps.to(device)\n",
    "            label = label.to(device)\n",
    "            optimizer.zero_grad()\n",
    "            outputs = net(snps)\n",
    "            loss = criterion(outputs, label)\n",
    "            loss.backward()\n",
    "            optimizer.step()\n",
    "            if i % 10 == 0: ##print every 50 people\n",
    "                print(\"Epoch: \", epoch)\n",
    "                print(\"Loss: \", loss)\n",
    "                print(\"output: \", outputs, \", true height: \", label)\n",
    "        except IndexError:\n",
    "            pass\n",
    "        i += 1"
   ]
  },
  {
   "cell_type": "code",
   "execution_count": null,
   "metadata": {
    "pycharm": {
     "is_executing": true
    }
   },
   "outputs": [],
   "source": []
  }
 ],
 "metadata": {
  "kernelspec": {
   "display_name": "dl",
   "language": "python",
   "name": "dl"
  },
  "language_info": {
   "codemirror_mode": {
    "name": "ipython",
    "version": 3
   },
   "file_extension": ".py",
   "mimetype": "text/x-python",
   "name": "python",
   "nbconvert_exporter": "python",
   "pygments_lexer": "ipython3",
   "version": "3.9.13"
  }
 },
 "nbformat": 4,
 "nbformat_minor": 1
}
