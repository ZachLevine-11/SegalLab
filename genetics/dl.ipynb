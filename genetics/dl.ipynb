{
 "cells": [
  {
   "cell_type": "code",
   "execution_count": 1,
   "metadata": {},
   "outputs": [
    {
     "name": "stderr",
     "output_type": "stream",
     "text": [
      "Mapping files: 100%|██████████| 3/3 [00:02<00:00,  1.13it/s]\n"
     ]
    }
   ],
   "source": [
    "import torch\n",
    "import torch.nn as nn\n",
    "import torch.nn.functional as F\n",
    "import torch.optim as optim\n",
    "from genetics_dataset import GeneticsDataset\n",
    "\n",
    "data = GeneticsDataset()"
   ]
  },
  {
   "cell_type": "code",
   "execution_count": 44,
   "metadata": {},
   "outputs": [],
   "source": [
    "class fc_snpnet(nn.Module):\n",
    "    def __init__(self):\n",
    "        super(fc_snpnet, self).__init__()\n",
    "        self.conv1 = nn.Conv1d(31, 31, 2000)\n",
    "        self.conv2 = nn.Conv1d(31, 31, 1000)\n",
    "        self.conv4 = nn.Conv1d(31, 31, 1000)\n",
    "        self.conv6 = nn.Conv1d(31, 31, 1000)\n",
    "        self.conv7 = nn.Conv1d(31, 31, 1000)\n",
    "        self.fc1 = nn.Linear(3596, 2048)\n",
    "        self.fc2 = nn.Linear(2048, 1024)\n",
    "        self.fc3 = nn.Linear(1024, 516)\n",
    "        self.fc4 = nn.Linear(516, 256)\n",
    "        self.fc5 = nn.Linear(256, 128)\n",
    "        self.fc6 = nn.Linear(128, 1)\n",
    "\n",
    "    def forward(self, x):\n",
    "        x = torch.reshape(x, [2, 31, 6053])\n",
    "        x = self.conv1(x)\n",
    "        x = self.conv2(x)\n",
    "        x = self.conv4(x)\n",
    "        x = self.conv6(x)\n",
    "        x = self.conv7(x)\n",
    "        x = x.flatten()\n",
    "        x = F.sigmoid(self.fc1(x))\n",
    "        x = F.sigmoid(self.fc2(x))\n",
    "        x = F.sigmoid(self.fc3(x))\n",
    "        x = F.sigmoid(self.fc4(x))\n",
    "        x = F.sigmoid(self.fc5(x))\n",
    "        x = self.fc6(x)\n",
    "        return x\n",
    "    \n",
    "net = fc_snpnet()"
   ]
  },
  {
   "cell_type": "code",
   "execution_count": null,
   "metadata": {
    "scrolled": true
   },
   "outputs": [
    {
     "name": "stdout",
     "output_type": "stream",
     "text": [
      "Epoch:  0\n",
      "Loss:  tensor(10.2618, grad_fn=<MseLossBackward>)\n",
      "output:  tensor([167.2966], grad_fn=<AddBackward0>) , true height:  tensor(170.5000)\n",
      "Epoch:  0\n",
      "Loss:  tensor(5.1473, grad_fn=<MseLossBackward>)\n",
      "output:  tensor([169.8688], grad_fn=<AddBackward0>) , true height:  tensor(167.6000)\n",
      "Epoch:  0\n",
      "Loss:  tensor(55.7353, grad_fn=<MseLossBackward>)\n",
      "output:  tensor([170.9656], grad_fn=<AddBackward0>) , true height:  tensor(163.5000)\n",
      "Epoch:  0\n",
      "Loss:  tensor(14.1975, grad_fn=<MseLossBackward>)\n",
      "output:  tensor([170.7680], grad_fn=<AddBackward0>) , true height:  tensor(167.)\n",
      "Epoch:  0\n",
      "Loss:  tensor(51.5760, grad_fn=<MseLossBackward>)\n",
      "output:  tensor([168.1816], grad_fn=<AddBackward0>) , true height:  tensor(161.)\n",
      "Epoch:  0\n",
      "Loss:  tensor(31.8880, grad_fn=<MseLossBackward>)\n",
      "output:  tensor([170.3531], grad_fn=<AddBackward0>) , true height:  tensor(176.)\n",
      "Epoch:  0\n",
      "Loss:  tensor(116.1363, grad_fn=<MseLossBackward>)\n",
      "output:  tensor([164.4233], grad_fn=<AddBackward0>) , true height:  tensor(175.2000)\n",
      "Epoch:  0\n",
      "Loss:  tensor(36.6531, grad_fn=<MseLossBackward>)\n",
      "output:  tensor([169.2542], grad_fn=<AddBackward0>) , true height:  tensor(163.2000)\n",
      "Epoch:  0\n",
      "Loss:  tensor(145.2272, grad_fn=<MseLossBackward>)\n",
      "output:  tensor([170.1490], grad_fn=<AddBackward0>) , true height:  tensor(182.2000)\n",
      "Epoch:  0\n",
      "Loss:  tensor(0.9858, grad_fn=<MseLossBackward>)\n",
      "output:  tensor([171.6929], grad_fn=<AddBackward0>) , true height:  tensor(170.7000)\n",
      "Epoch:  0\n",
      "Loss:  tensor(62.6177, grad_fn=<MseLossBackward>)\n",
      "output:  tensor([168.3131], grad_fn=<AddBackward0>) , true height:  tensor(160.4000)\n"
     ]
    }
   ],
   "source": [
    "criterion = nn.MSELoss()\n",
    "optimizer = optim.SGD(net.parameters(), lr = 0.001, momentum = 0.2)\n",
    "for epoch in range(30):\n",
    "    i = 0\n",
    "    for tenK_index in list(data.binaries.sample.values)[0:4000]:\n",
    "        try:\n",
    "            snps, label = data.__getitem__(tenK_index)\n",
    "            optimizer.zero_grad()\n",
    "            outputs = net(snps)\n",
    "            loss = criterion(outputs, label)\n",
    "            loss.backward()\n",
    "            optimizer.step()\n",
    "            if i % 50 == 0: ##print every 50 people\n",
    "                print(\"Epoch: \", epoch)\n",
    "                print(\"Loss: \", loss)\n",
    "                print(\"output: \", outputs, \", true height: \", label)\n",
    "        except IndexError:\n",
    "            pass\n",
    "        i += 1"
   ]
  },
  {
   "cell_type": "code",
   "execution_count": null,
   "metadata": {},
   "outputs": [],
   "source": []
  }
 ],
 "metadata": {
  "kernelspec": {
   "display_name": "Python 3",
   "language": "python",
   "name": "python3"
  },
  "language_info": {
   "codemirror_mode": {
    "name": "ipython",
    "version": 3
   },
   "file_extension": ".py",
   "mimetype": "text/x-python",
   "name": "python",
   "nbconvert_exporter": "python",
   "pygments_lexer": "ipython3",
   "version": "3.7.4"
  }
 },
 "nbformat": 4,
 "nbformat_minor": 1
}
